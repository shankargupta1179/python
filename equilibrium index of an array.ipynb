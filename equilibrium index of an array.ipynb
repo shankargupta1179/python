{
 "cells": [
  {
   "cell_type": "markdown",
   "id": "a7a6fa29",
   "metadata": {},
   "source": [
    "# Equilibrium index of array(Minimum)"
   ]
  },
  {
   "cell_type": "code",
   "execution_count": 1,
   "id": "233c15a0",
   "metadata": {},
   "outputs": [
    {
     "name": "stdout",
     "output_type": "stream",
     "text": [
      "1 4 6\n",
      "-1\n"
     ]
    }
   ],
   "source": [
    "a = [int(s) for s in input().split()]\n",
    "k=[]\n",
    "for i in range(0,len(a)):\n",
    "    if(sum(a[:i])==sum(a[i+1:len(a)])):\n",
    "        k.append(i)\n",
    "if len(k)==0:\n",
    "    print('-1')\n",
    "else:\n",
    "    print(min(k))      "
   ]
  }
 ],
 "metadata": {
  "kernelspec": {
   "display_name": "Python 3",
   "language": "python",
   "name": "python3"
  },
  "language_info": {
   "codemirror_mode": {
    "name": "ipython",
    "version": 3
   },
   "file_extension": ".py",
   "mimetype": "text/x-python",
   "name": "python",
   "nbconvert_exporter": "python",
   "pygments_lexer": "ipython3",
   "version": "3.8.8"
  }
 },
 "nbformat": 4,
 "nbformat_minor": 5
}
